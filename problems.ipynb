{
 "cells": [
  {
   "cell_type": "markdown",
   "metadata": {},
   "source": [
    "### python 100 problems"
   ]
  },
  {
   "cell_type": "code",
   "execution_count": 2,
   "metadata": {},
   "outputs": [
    {
     "name": "stdout",
     "output_type": "stream",
     "text": [
      "This is Older:  21\n"
     ]
    }
   ],
   "source": [
    "#1. User will input (3ages).Find the oldest one\n",
    "first = int(input(\"Enter the First Age: \"))\n",
    "second = int(input(\"Enter the Second Age: \"))\n",
    "third = int(input(\"Enter the Third Age: \"))\n",
    "if first>second:\n",
    "    print(\"Oldest Age is : \",first)\n",
    "elif second>third:\n",
    "    print(\"Oldest Age is : \",second)\n",
    "elif third > first:\n",
    "    print(\"Oldest Age is : \",third)\n"
   ]
  },
  {
   "cell_type": "code",
   "execution_count": 5,
   "metadata": {},
   "outputs": [
    {
     "name": "stdout",
     "output_type": "stream",
     "text": [
      "Converting celsius 32 to Fahrenheit 89.6\n"
     ]
    }
   ],
   "source": [
    "#2.Write a program that will convert celsius value to fahrenheit\n",
    "\n",
    "celsius = int(input(\"Enter the Value\"))\n",
    "fahrenheit = (celsius*9/5)+32\n",
    "print(\"Converting celsius\",celsius,\"to Fahrenheit\",fahrenheit)"
   ]
  },
  {
   "cell_type": "code",
   "execution_count": 9,
   "metadata": {},
   "outputs": [
    {
     "name": "stdout",
     "output_type": "stream",
     "text": [
      "First Number Swap to Second Number:  2\n",
      "Second Number Swap to First Number:  1\n"
     ]
    }
   ],
   "source": [
    "#3. User will input (2numbers).Write a program to swap the numbers\n",
    "first = int(input(\"Enter the First Number: \"))\n",
    "second = int(input(\"Enter the Second Number: \"))\n",
    "first , second = second , first\n",
    "print(\"First Number Swap to Second Number: \",first)\n",
    "print(\"Second Number Swap to First Number: \",second)"
   ]
  },
  {
   "cell_type": "code",
   "execution_count": 41,
   "metadata": {},
   "outputs": [
    {
     "name": "stdout",
     "output_type": "stream",
     "text": [
      "12\n"
     ]
    }
   ],
   "source": [
    "#4.Write a program that will give you the sum of 3 digits\n",
    "numbers = int(input(\"Enter the numbers: \"))\n",
    "sum = 0\n",
    "for i in range(1,numbers+1):\n",
    "    sum=\n",
    "print(sum)"
   ]
  }
 ],
 "metadata": {
  "kernelspec": {
   "display_name": "base",
   "language": "python",
   "name": "python3"
  },
  "language_info": {
   "codemirror_mode": {
    "name": "ipython",
    "version": 3
   },
   "file_extension": ".py",
   "mimetype": "text/x-python",
   "name": "python",
   "nbconvert_exporter": "python",
   "pygments_lexer": "ipython3",
   "version": "3.11.3"
  },
  "orig_nbformat": 4
 },
 "nbformat": 4,
 "nbformat_minor": 2
}
